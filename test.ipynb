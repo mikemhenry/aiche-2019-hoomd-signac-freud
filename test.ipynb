{
 "cells": [
  {
   "cell_type": "code",
   "execution_count": null,
   "metadata": {},
   "outputs": [],
   "source": [
    "import gsd\n",
    "import gsd.hoomd\n",
    "import numpy\n",
    "from matplotlib import pyplot\n",
    "%matplotlib inline"
   ]
  },
  {
   "cell_type": "code",
   "execution_count": null,
   "metadata": {},
   "outputs": [],
   "source": [
    "import gsd\n",
    "import gsd.hoomd\n",
    "t = gsd.hoomd.open('trajectory.gsd', 'rb');\n",
    "last_frame = t[-1]\n",
    "box = [last_frame.configuration.box[0], last_frame.configuration.box[1]]"
   ]
  },
  {
   "cell_type": "code",
   "execution_count": null,
   "metadata": {},
   "outputs": [],
   "source": [
    "import freud"
   ]
  },
  {
   "cell_type": "code",
   "execution_count": null,
   "metadata": {},
   "outputs": [],
   "source": [
    "hex = freud.order.HexOrderParameter(rmax=1.2, k=6)"
   ]
  },
  {
   "cell_type": "code",
   "execution_count": null,
   "metadata": {},
   "outputs": [],
   "source": [
    "psi = []\n",
    "for frame in t[-10:]:\n",
    "    hex.compute(box, frame.particles.position)\n",
    "    print(numpy.abs(numpy.mean(hex.psi)))\n",
    "    psi.append(numpy.mean(hex.psi))\n",
    "print()\n",
    "print(numpy.abs(numpy.mean(psi)))"
   ]
  },
  {
   "cell_type": "code",
   "execution_count": null,
   "metadata": {},
   "outputs": [],
   "source": [
    "poly_area = 0.594410322684471  # TODO, get from job document\n",
    "N = 440 # TODO: get from job document\n",
    "# alternately, use a custom log operation to log phi directly\n",
    "\n",
    "data = numpy.genfromtxt(fname='log.dat', skip_header=True)\n",
    "pyplot.figure(figsize=(4,2.2), dpi=140);\n",
    "pyplot.plot(data[:,0], N*poly_area/data[:,1]);\n",
    "pyplot.ylabel('packing fraction');\n",
    "pyplot.xlabel('time step');"
   ]
  },
  {
   "cell_type": "code",
   "execution_count": null,
   "metadata": {},
   "outputs": [],
   "source": []
  }
 ],
 "metadata": {
  "hide_input": false,
  "kernelspec": {
   "display_name": "Python 3",
   "language": "python",
   "name": "python3"
  },
  "language_info": {
   "codemirror_mode": {
    "name": "ipython",
    "version": 3
   },
   "file_extension": ".py",
   "mimetype": "text/x-python",
   "name": "python",
   "nbconvert_exporter": "python",
   "pygments_lexer": "ipython3",
   "version": "3.7.0"
  }
 },
 "nbformat": 4,
 "nbformat_minor": 2
}
