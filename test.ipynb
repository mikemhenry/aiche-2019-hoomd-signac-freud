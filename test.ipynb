{
 "cells": [
  {
   "cell_type": "code",
   "execution_count": null,
   "metadata": {},
   "outputs": [],
   "source": [
    "import signac\n",
    "\n",
    "project = signac.get_project()"
   ]
  },
  {
   "cell_type": "code",
   "execution_count": null,
   "metadata": {},
   "outputs": [],
   "source": [
    "import sys\n",
    "from ipywidgets import interact\n",
    "\n",
    "JOB = None\n",
    "\n",
    "schema = project.detect_schema()\n",
    "ns = schema['n'][int]\n",
    "seeds = schema['seed'][int]\n",
    "\n",
    "@interact(n=ns, seed=seeds)\n",
    "def select(n=5, seed=0):\n",
    "    global JOB\n",
    "    jobs = project.find_jobs(dict(n=n, seed=seed))\n",
    "    if len(jobs) == 0:\n",
    "        print(\"No jobs found for this selection.\", file=sys.stderr)\n",
    "    elif len(jobs) > 1:\n",
    "        print(\"Multiple jobs matched this selection.\", file=sys.stderr)\n",
    "    else:\n",
    "        JOB = list(jobs)[0]\n",
    "        print(\"Selected\", JOB)"
   ]
  },
  {
   "cell_type": "code",
   "execution_count": null,
   "metadata": {},
   "outputs": [],
   "source": [
    "from matplotlib import pyplot as plt\n",
    "%matplotlib inline\n",
    "\n",
    "N = 440 # TODO: get from job document\n",
    "# alternately, use a custom log operation to log phi directly\n",
    "\n",
    "log = np.genfromtxt(fname=JOB.fn('log.dat'), names=True)\n",
    "psi = np.load(JOB.fn('order.npz'))\n",
    "\n",
    "fig, ax = plt.subplots(figsize=(4, 2.2), dpi=140)\n",
    "ax2 = ax.twinx()\n",
    "\n",
    "ax.plot(log['timestep'], N * JOB.doc.poly_area / log['volume'])\n",
    "ax.set_xlabel('time step')\n",
    "ax.set_ylabel('Packing Fraction')\n",
    "\n",
    "ax2.plot(psi['steps'], psi['psi'].mean(axis=1), color='red')\n",
    "ax2.set_ylabel('Hexatic Order Parameter ($\\psi$)', color='red')\n",
    "\n",
    "plt.show()"
   ]
  },
  {
   "cell_type": "code",
   "execution_count": null,
   "metadata": {},
   "outputs": [],
   "source": []
  }
 ],
 "metadata": {
  "hide_input": false,
  "kernelspec": {
   "display_name": "Python 3",
   "language": "python",
   "name": "python3"
  },
  "language_info": {
   "codemirror_mode": {
    "name": "ipython",
    "version": 3
   },
   "file_extension": ".py",
   "mimetype": "text/x-python",
   "name": "python",
   "nbconvert_exporter": "python",
   "pygments_lexer": "ipython3",
   "version": "3.6.5"
  }
 },
 "nbformat": 4,
 "nbformat_minor": 2
}
