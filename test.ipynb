{
 "cells": [
  {
   "cell_type": "code",
   "execution_count": null,
   "metadata": {},
   "outputs": [],
   "source": [
    "import signac\n",
    "\n",
    "project = signac.get_project()"
   ]
  },
  {
   "cell_type": "code",
   "execution_count": null,
   "metadata": {},
   "outputs": [],
   "source": [
    "import sys\n",
    "from ipywidgets import interact\n",
    "\n",
    "JOB = None\n",
    "\n",
    "schema = project.detect_schema()\n",
    "ns = schema['n'][int]\n",
    "betaPs = schema['betaP'][float]\n",
    "seeds = schema['seed'][int]\n",
    "\n",
    "@interact(n=ns, betaP=betaPs, seed=seeds)\n",
    "def select(n=5, betaP=13.2, seed=0):\n",
    "    global JOB\n",
    "    jobs = project.find_jobs(dict(n=n, betaP=betaP, seed=seed))\n",
    "    if len(jobs) == 0:\n",
    "        print(\"No jobs found for this selection.\", file=sys.stderr)\n",
    "    elif len(jobs) > 1:\n",
    "        print(\"Multiple jobs matched this selection.\", file=sys.stderr)\n",
    "    else:\n",
    "        JOB = list(jobs)[0]\n",
    "        print(\"Selected\", JOB)"
   ]
  },
  {
   "cell_type": "code",
   "execution_count": null,
   "metadata": {},
   "outputs": [],
   "source": [
    "import numpy as np\n",
    "from matplotlib import pyplot as plt\n",
    "import gsd.hoomd\n",
    "%matplotlib inline\n",
    "\n",
    "with gsd.hoomd.open(JOB.fn('trajectory.gsd')) as traj:\n",
    "    N = traj[-1].particles.N\n",
    "# alternately, use a custom log operation to log phi directly\n",
    "\n",
    "log = np.genfromtxt(fname=JOB.fn('log.dat'), names=True)\n",
    "psi = np.load(JOB.fn('order.npz'))\n",
    "\n",
    "fig, ax = plt.subplots(figsize=(4, 2.2), dpi=140)\n",
    "ax2 = ax.twinx()\n",
    "\n",
    "ax.plot(log['timestep'], N * JOB.doc.poly_area / log['volume'])\n",
    "ax.set_xlabel('time step')\n",
    "ax.set_ylabel('Packing Fraction')\n",
    "\n",
    "ax2.plot(psi['steps'], np.real(psi['psi']).mean(axis=1), color='red')\n",
    "ax2.set_ylabel('Hexatic Order Parameter ($\\psi$)', color='red')\n",
    "\n",
    "plt.show()"
   ]
  },
  {
   "cell_type": "markdown",
   "metadata": {},
   "source": [
    "# Additional Analyses"
   ]
  },
  {
   "cell_type": "markdown",
   "metadata": {},
   "source": [
    "## Simple visualization"
   ]
  },
  {
   "cell_type": "code",
   "execution_count": null,
   "metadata": {},
   "outputs": [],
   "source": [
    "def quat2ang(quats):\n",
    "    \"\"\"Convert quaternions to angles.\"\"\"\n",
    "    return np.mod(2*np.arctan2(quats[:, 3], quats[:, 0]), 2*np.pi)"
   ]
  },
  {
   "cell_type": "code",
   "execution_count": null,
   "metadata": {},
   "outputs": [],
   "source": [
    "plt.figure(figsize=(12, 8))\n",
    "with gsd.hoomd.open(JOB.fn('trajectory.gsd')) as traj:\n",
    "    frame = traj[-1]\n",
    "    z = zip(frame.particles.position, quat2ang(frame.particles.orientation))\n",
    "    for p, ang in z:\n",
    "        plt.scatter(p[0], p[1], marker=(6, 0, np.rad2deg(ang)+45),\n",
    "                    edgecolor='k', c=ang, vmin=-np.pi/4, vmax=np.pi/4, s=300)"
   ]
  },
  {
   "cell_type": "markdown",
   "metadata": {},
   "source": [
    "## PMFT"
   ]
  },
  {
   "cell_type": "code",
   "execution_count": null,
   "metadata": {},
   "outputs": [],
   "source": [
    "import freud\n",
    "\n",
    "pmfts = []\n",
    "with gsd.hoomd.open(JOB.fn('trajectory.gsd')) as traj:\n",
    "    for frame in [traj[1], traj[-1]]:\n",
    "        box = freud.box.Box.from_box(frame.configuration.box[:2])\n",
    "        pmft = freud.pmft.PMFTXY2D(4, 4, 300, 300)\n",
    "        pmft.compute(box, frame.particles.position, quat2ang(frame.particles.orientation))\n",
    "        pmfts.append(pmft)"
   ]
  },
  {
   "cell_type": "code",
   "execution_count": null,
   "metadata": {},
   "outputs": [],
   "source": [
    "from matplotlib import patches\n",
    "import geometry\n",
    "\n",
    "fig, axes = plt.subplots(1, len(pmfts), figsize=(14, 5), dpi=140)\n",
    "for ax, pmft in zip(np.atleast_1d(np.array(axes)), pmfts):\n",
    "    im = ax.contourf(pmft.X, pmft.Y, pmft.PMFT.T)\n",
    "    fig.colorbar(im, ax=ax)\n",
    "    ax.add_patch(patches.Polygon(xy=geometry.get_vertices(6)))"
   ]
  },
  {
   "cell_type": "markdown",
   "metadata": {},
   "source": [
    "## RDF"
   ]
  },
  {
   "cell_type": "code",
   "execution_count": null,
   "metadata": {},
   "outputs": [],
   "source": [
    "rdfs = []\n",
    "with gsd.hoomd.open(JOB.fn('trajectory.gsd')) as traj:\n",
    "    for frame in [traj[1], traj[-1]]:\n",
    "        box = freud.box.Box.from_box(frame.configuration.box[:2].tolist())\n",
    "        rdf = freud.density.RDF(np.sqrt(box.Lx**2 + box.Ly**2)/5, box.Lx/1000)\n",
    "        rdf.compute(box, frame.particles.position)\n",
    "        rdfs.append(rdf)"
   ]
  },
  {
   "cell_type": "code",
   "execution_count": null,
   "metadata": {},
   "outputs": [],
   "source": [
    "fig, axes = plt.subplots(1, len(rdfs), figsize=(14, 5), dpi=140)\n",
    "for ax, rdf in zip(np.atleast_1d(np.array(axes)), rdfs):\n",
    "    rdf_values = rdf.RDF.copy()\n",
    "    ax.plot(rdf.R, rdf_values)"
   ]
  },
  {
   "cell_type": "markdown",
   "metadata": {},
   "source": [
    "## Voronoi"
   ]
  },
  {
   "cell_type": "code",
   "execution_count": null,
   "metadata": {},
   "outputs": [],
   "source": [
    "voronois = []\n",
    "with gsd.hoomd.open(JOB.fn('trajectory.gsd')) as traj:\n",
    "    for frame in [traj[1], traj[-1]]:\n",
    "        box = freud.box.Box.from_box(frame.configuration.box[:2].tolist())\n",
    "        voronoi = freud.voronoi.Voronoi(box, np.sqrt(box.Lx**2 + box.Ly**2)/5)\n",
    "        voronoi.compute(frame.particles.position, box)\n",
    "        voronois.append(voronoi)"
   ]
  },
  {
   "cell_type": "code",
   "execution_count": null,
   "metadata": {},
   "outputs": [],
   "source": [
    "from matplotlib import collections\n",
    "def draw_voronoi(ax, box, cells):\n",
    "    # Number\n",
    "    colors = [len(cell) for cell in cells]\n",
    "    \n",
    "    # Draw Voronoi cells\n",
    "    patches = [plt.Polygon(cell[:, :2]) for cell in cells]\n",
    "    patch_collection = collections.PatchCollection(patches, edgecolors='black')\n",
    "    patch_collection.set_array(np.array(colors))\n",
    "    ax.add_collection(patch_collection)\n",
    "\n",
    "    # Draw points\n",
    "    ax.set_xlim((-box.Lx/2, box.Lx/2))\n",
    "    ax.set_ylim((-box.Ly/2, box.Ly/2))\n",
    "    \n",
    "    # Show colorbar for number of sides\n",
    "    fig.colorbar(patch_collection, ax=ax)"
   ]
  },
  {
   "cell_type": "code",
   "execution_count": null,
   "metadata": {},
   "outputs": [],
   "source": [
    "fig, axes = plt.subplots(1, len(voronois), figsize=(14, 5))\n",
    "for ax, voro in zip(np.atleast_1d(np.array(axes)), voronois):\n",
    "    draw_voronoi(ax, box, voro.polytopes)"
   ]
  },
  {
   "cell_type": "markdown",
   "metadata": {},
   "source": [
    "## Unified"
   ]
  },
  {
   "cell_type": "code",
   "execution_count": null,
   "metadata": {},
   "outputs": [],
   "source": [
    "from matplotlib import collections\n",
    "\n",
    "def quat2ang(quats):\n",
    "    \"\"\"Convert quaternions to angles.\"\"\"\n",
    "    return np.mod(2*np.arctan2(quats[:, 3], quats[:, 0]), 2*np.pi)\n",
    "\n",
    "def draw_pmft(ax, pmft, nverts):\n",
    "    im = ax.contourf(pmft.X, pmft.Y, pmft.PMFT.T)\n",
    "    cb = fig.colorbar(im, ax=ax)\n",
    "    cb.set_label(\"$k_b T$\", fontsize=12)\n",
    "    ax.add_patch(patches.Polygon(xy=geometry.get_vertices(nverts)))\n",
    "\n",
    "def draw_voronoi(ax, box, cells):\n",
    "    \"\"\"Draw voronoi tesselation\"\"\"\n",
    "    colors = [len(cell) for cell in cells]\n",
    "    patches = [plt.Polygon(cell[:, :2]) for cell in cells]\n",
    "    patch_collection = collections.PatchCollection(patches, edgecolors='black')\n",
    "    patch_collection.set_array(np.array(colors))\n",
    "    ax.add_collection(patch_collection)\n",
    "    ax.set_xlim((-box.Lx/2, box.Lx/2))\n",
    "    ax.set_ylim((-box.Ly/2, box.Ly/2))\n",
    "    cb = fig.colorbar(patch_collection, ax=ax)\n",
    "    cb.set_label(\"Number of sides\", fontsize=12)"
   ]
  },
  {
   "cell_type": "code",
   "execution_count": null,
   "metadata": {},
   "outputs": [],
   "source": [
    "pmfts = []\n",
    "rdfs = []\n",
    "voronois = []\n",
    "\n",
    "with gsd.hoomd.open(JOB.fn('trajectory.gsd')) as traj:\n",
    "    for frame in [traj[1], traj[-1]]:\n",
    "        box = freud.box.Box.from_box(frame.configuration.box[:2].tolist())\n",
    "        voronoi = freud.voronoi.Voronoi(box, np.sqrt(box.Lx**2 + box.Ly**2)/5)\n",
    "        voronoi.compute(frame.particles.position, box)\n",
    "        voronois.append(voronoi)\n",
    "        \n",
    "        rdf = freud.density.RDF(np.sqrt(box.Lx**2 + box.Ly**2)/5, box.Lx/1000)\n",
    "        rdf.compute(box, frame.particles.position)\n",
    "        rdfs.append(rdf)\n",
    "        \n",
    "        pmft = freud.pmft.PMFTXY2D(4, 4, 300, 300)\n",
    "        pmft.compute(box, frame.particles.position, quat2ang(frame.particles.orientation))\n",
    "        pmfts.append(pmft)"
   ]
  },
  {
   "cell_type": "code",
   "execution_count": null,
   "metadata": {},
   "outputs": [],
   "source": [
    "fig, axes = plt.subplots(3, len(voronois), figsize=(10, 12))\n",
    "titles = [\"Initial\", \"Final\"]\n",
    "\n",
    "for ax, title, pmft, rdf, voro in zip(axes.T, titles, pmfts, rdfs, voronois):\n",
    "    draw_pmft(ax[0], pmft, JOB.sp.n)\n",
    "    ax[0].set_title(title + \" PMFT\", fontsize=14)\n",
    "\n",
    "    ax[1].plot(rdf.R, rdf.RDF)\n",
    "    ax[1].set_title(title + \" RDF\", fontsize=14)\n",
    "\n",
    "    draw_voronoi(ax[2], box, voro.polytopes)\n",
    "    ax[2].set_title(title + \" Voronoi Diagram\", fontsize=14)\n",
    "fig.tight_layout()"
   ]
  }
 ],
 "metadata": {
  "hide_input": false,
  "kernelspec": {
   "display_name": "Python 3",
   "language": "python",
   "name": "python3"
  },
  "language_info": {
   "codemirror_mode": {
    "name": "ipython",
    "version": 3
   },
   "file_extension": ".py",
   "mimetype": "text/x-python",
   "name": "python",
   "nbconvert_exporter": "python",
   "pygments_lexer": "ipython3",
   "version": "3.7.0"
  },
  "toc": {
   "base_numbering": 1,
   "nav_menu": {},
   "number_sections": true,
   "sideBar": true,
   "skip_h1_title": false,
   "title_cell": "Table of Contents",
   "title_sidebar": "Contents",
   "toc_cell": false,
   "toc_position": {},
   "toc_section_display": true,
   "toc_window_display": false
  }
 },
 "nbformat": 4,
 "nbformat_minor": 2
}
