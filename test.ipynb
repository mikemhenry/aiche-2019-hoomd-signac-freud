{
 "cells": [
  {
   "cell_type": "code",
   "execution_count": null,
   "metadata": {},
   "outputs": [],
   "source": [
    "import signac\n",
    "\n",
    "project = signac.get_project()"
   ]
  },
  {
   "cell_type": "code",
   "execution_count": null,
   "metadata": {},
   "outputs": [],
   "source": [
    "import sys\n",
    "from ipywidgets import interact\n",
    "\n",
    "JOB = None\n",
    "\n",
    "schema = project.detect_schema()\n",
    "ns = schema['n'][int]\n",
    "betaPs = schema['betaP'][float]\n",
    "seeds = schema['seed'][int]\n",
    "\n",
    "@interact(n=ns, betaP=betaPs, seed=seeds)\n",
    "def select(n=5, betaP=13.2, seed=0):\n",
    "    global JOB\n",
    "    jobs = project.find_jobs(dict(n=n, betaP=betaP, seed=seed))\n",
    "    if len(jobs) == 0:\n",
    "        print(\"No jobs found for this selection.\", file=sys.stderr)\n",
    "    elif len(jobs) > 1:\n",
    "        print(\"Multiple jobs matched this selection.\", file=sys.stderr)\n",
    "    else:\n",
    "        JOB = list(jobs)[0]\n",
    "        print(\"Selected\", JOB)"
   ]
  },
  {
   "cell_type": "code",
   "execution_count": null,
   "metadata": {},
   "outputs": [],
   "source": [
    "import numpy as np\n",
    "from matplotlib import pyplot as plt\n",
    "import gsd.hoomd\n",
    "%matplotlib inline\n",
    "\n",
    "with gsd.hoomd.open(JOB.fn('trajectory.gsd')) as traj:\n",
    "    N = traj[-1].particles.N\n",
    "# alternately, use a custom log operation to log phi directly\n",
    "\n",
    "log = np.genfromtxt(fname=JOB.fn('log.dat'), names=True)\n",
    "psi = np.load(JOB.fn('order.npz'))\n",
    "\n",
    "fig, ax = plt.subplots(figsize=(4, 2.2), dpi=140)\n",
    "ax2 = ax.twinx()\n",
    "\n",
    "ax.plot(log['timestep'], N * JOB.doc.poly_area / log['volume'])\n",
    "ax.set_xlabel('time step')\n",
    "ax.set_ylabel('Packing Fraction')\n",
    "\n",
    "ax2.plot(psi['steps'], np.absolute(psi['psi']).mean(axis=1), color='red')\n",
    "ax2.set_ylabel('Hexatic Order Parameter ($\\psi$)', color='red')\n",
    "\n",
    "plt.show()"
   ]
  },
  {
   "cell_type": "code",
   "execution_count": null,
   "metadata": {},
   "outputs": [],
   "source": [
    "from matplotlib import collections, patches, cm, colors\n",
    "import freud\n",
    "import geometry\n",
    "\n",
    "def quat2ang(quats):\n",
    "    \"\"\"Convert quaternions to angles.\"\"\"\n",
    "    return np.mod(2*np.arctan2(quats[:, 3], quats[:, 0]), 2*np.pi)\n",
    "\n",
    "def draw_config(fig, ax, box, pos, psi, nverts):\n",
    "    ax.set_xlim((-box.Lx/2, box.Lx/2))\n",
    "    ax.set_ylim((-box.Ly/2, box.Ly/2))\n",
    "    verts = geometry.get_vertices(nverts)\n",
    "\n",
    "    cmap = cm.get_cmap('viridis')\n",
    "\n",
    "    for i, p in enumerate(pos):\n",
    "        ax.add_patch(patches.Polygon(xy=p[:2]+verts, color=cmap(np.absolute(psi[i]))))\n",
    "    \n",
    "def draw_pmft(fig, ax, pmft, nverts):\n",
    "    im = ax.contourf(pmft.X, pmft.Y, pmft.PMFT)\n",
    "    cb = fig.colorbar(im, ax=ax)\n",
    "    cb.set_label(\"$k_b T$\", fontsize=12)\n",
    "    ax.add_patch(patches.Polygon(xy=geometry.get_vertices(nverts)))\n",
    "\n",
    "def draw_voronoi(fig, ax, box, cells):\n",
    "    \"\"\"Draw voronoi tesselation\"\"\"\n",
    "    cmap = cm.get_cmap('viridis')\n",
    "    bounds = list(range(3, 9))\n",
    "    cols = [cmap((i-bounds[0])/len(bounds)) for i in bounds]\n",
    "    cmap = colors.LinearSegmentedColormap.from_list(\"my_cmap\", cols, N=7, gamma=1.0)\n",
    "    norm = colors.BoundaryNorm(bounds, cmap.N)\n",
    "    \n",
    "    cols = [len(cell) for cell in cells]\n",
    "    patches = [plt.Polygon(cell[:, :2]) for cell in cells]\n",
    "    patch_collection = collections.PatchCollection(patches, edgecolors='black')\n",
    "    patch_collection.set_array(np.array(cols))\n",
    "    patch_collection.set_cmap(cmap)\n",
    "    \n",
    "    ax.add_collection(patch_collection)\n",
    "    ax.set_xlim((-box.Lx/2, box.Lx/2))\n",
    "    ax.set_ylim((-box.Ly/2, box.Ly/2))\n",
    "    cb = fig.colorbar(patch_collection, ax=ax, cmap=cmap, norm=norm, ticks=bounds, boundaries=bounds)\n",
    "\n",
    "    cb.set_label(\"Number of sides\", fontsize=12)\n",
    "    \n",
    "with gsd.hoomd.open(JOB.fn('trajectory.gsd')) as traj:\n",
    "    num_frames = len(traj)-1 "
   ]
  },
  {
   "cell_type": "code",
   "execution_count": null,
   "metadata": {},
   "outputs": [],
   "source": [
    "@interact(num=(0, num_frames))\n",
    "def frame_demo(num=1):\n",
    "    fix, ax = plt.subplots(1, 1, figsize=(8, 8))\n",
    "    with gsd.hoomd.open(JOB.fn('trajectory.gsd')) as traj:\n",
    "        frame = traj[num]\n",
    "        \n",
    "        box = freud.box.Box.from_box(frame.configuration.box[:2])\n",
    "        hop = freud.order.HexOrderParameter(rmax=1.2, k=6)\n",
    "        hop.compute(box, frame.particles.position)\n",
    "        \n",
    "        draw_config(fig, ax, box, frame.particles.position, hop.psi, JOB.sp.n)"
   ]
  },
  {
   "cell_type": "code",
   "execution_count": null,
   "metadata": {},
   "outputs": [],
   "source": [
    "@interact(num=(0, num_frames))\n",
    "def pmft_demo(num=1):\n",
    "    with gsd.hoomd.open(JOB.fn('trajectory.gsd')) as traj:\n",
    "        frame = traj[num]\n",
    "            \n",
    "        box = freud.box.Box.from_box(frame.configuration.box[:2])\n",
    "        pmft = freud.pmft.PMFTXY2D(4, 4, 300, 300)\n",
    "        pmft.compute(box, frame.particles.position, quat2ang(frame.particles.orientation))\n",
    "\n",
    "    fig, ax = plt.subplots(1, 1, figsize=(10, 8))\n",
    "    draw_pmft(fig, ax, pmft, JOB.sp.n)"
   ]
  },
  {
   "cell_type": "code",
   "execution_count": null,
   "metadata": {},
   "outputs": [],
   "source": [
    "@interact(num=(0, num_frames))\n",
    "def rdf_demo(num=1):\n",
    "    with gsd.hoomd.open(JOB.fn('trajectory.gsd')) as traj:\n",
    "        frame = traj[num]\n",
    "            \n",
    "        box = freud.box.Box.from_box(frame.configuration.box[:2].tolist())\n",
    "        rdf = freud.density.RDF(np.sqrt(box.Lx**2 + box.Ly**2)/5, box.Lx/1000)\n",
    "        rdf.compute(box, frame.particles.position)\n",
    "\n",
    "    fig, ax = plt.subplots(1, 1, figsize=(8, 8))\n",
    "    ax.plot(rdf.R, rdf.RDF)"
   ]
  },
  {
   "cell_type": "code",
   "execution_count": null,
   "metadata": {
    "scrolled": false
   },
   "outputs": [],
   "source": [
    "@interact(num=(0, num_frames))\n",
    "def rdf_demo(num=1):\n",
    "    with gsd.hoomd.open(JOB.fn('trajectory.gsd')) as traj:\n",
    "        frame = traj[num]\n",
    "            \n",
    "        box = freud.box.Box.from_box(frame.configuration.box[:2].tolist())\n",
    "        voronoi = freud.voronoi.Voronoi(box, np.sqrt(box.Lx**2 + box.Ly**2)/5)\n",
    "        voronoi.compute(frame.particles.position, box)\n",
    "\n",
    "    fig, ax = plt.subplots(1, 1, figsize=(10, 8))\n",
    "    draw_voronoi(fig, ax, box, voronoi.polytopes)"
   ]
  },
  {
   "cell_type": "code",
   "execution_count": null,
   "metadata": {},
   "outputs": [],
   "source": [
    "@interact(n=project.detect_schema()['n'][int], num_frames=(1, 10))\n",
    "def transition_demo(n, num_frames=5):\n",
    "    avg_hop = {}\n",
    "    for betaP, group in project.find_jobs({\"n\": n}).groupby('betaP'):\n",
    "        hops = []\n",
    "        for job in group:\n",
    "            with gsd.hoomd.open(job.fn('trajectory.gsd')) as traj:\n",
    "                for frame in traj[-num_frames:]:\n",
    "                    box = freud.box.Box.from_box(frame.configuration.box[:2])\n",
    "                    hop = freud.order.HexOrderParameter(rmax=1.2, k=6)\n",
    "                    hop.compute(box, frame.particles.position)\n",
    "                    hops.append(np.mean(np.absolute(hop.psi)))\n",
    "        avg_hop[betaP] = np.mean(hops)\n",
    "    fig, ax = plt.subplots(1, 1)\n",
    "    ax.plot(avg_hop.keys(), avg_hop.values())"
   ]
  }
 ],
 "metadata": {
  "hide_input": false,
  "kernelspec": {
   "display_name": "Python 3",
   "language": "python",
   "name": "python3"
  },
  "language_info": {
   "codemirror_mode": {
    "name": "ipython",
    "version": 3
   },
   "file_extension": ".py",
   "mimetype": "text/x-python",
   "name": "python",
   "nbconvert_exporter": "python",
   "pygments_lexer": "ipython3",
   "version": "3.7.0"
  },
  "toc": {
   "base_numbering": 1,
   "nav_menu": {},
   "number_sections": true,
   "sideBar": true,
   "skip_h1_title": false,
   "title_cell": "Table of Contents",
   "title_sidebar": "Contents",
   "toc_cell": false,
   "toc_position": {},
   "toc_section_display": true,
   "toc_window_display": false
  }
 },
 "nbformat": 4,
 "nbformat_minor": 2
}
