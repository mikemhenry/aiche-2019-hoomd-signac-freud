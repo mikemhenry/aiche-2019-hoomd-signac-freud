{
 "cells": [
  {
   "cell_type": "markdown",
   "metadata": {},
   "source": [
    "# Identifying Phase Transitions\n",
    "\n",
    "In this notebook, we will use numerous methods to characterize the phase behavior of systems of hard polygons.\n",
    "At low pressures, systems will be in a fluid phase.\n",
    "At high enough pressures, the system will form a solid.\n",
    "There is also an intermediate hexatic phase, but that takes more care and much larger simulations to identify - see [ Shape and Symmetry Determine Two-Dimensional Melting Transitions of Hard Regular Polygons](http://dx.doi.org/10.1103/PhysRevX.7.021001).\n",
    "\n",
    "We start by importing the signac project and setting a few global variables."
   ]
  },
  {
   "cell_type": "code",
   "execution_count": null,
   "metadata": {},
   "outputs": [],
   "source": [
    "from project import Project\n",
    "\n",
    "project = Project()\n",
    "\n",
    "# If you only want to read/store data, you can also just do this:\n",
    "# import signac\n",
    "# project = signac.get_project()\n",
    "\n",
    "\n",
    "# Specify the resolution for all figures below:\n",
    "DPI = 140"
   ]
  },
  {
   "cell_type": "markdown",
   "metadata": {},
   "source": [
    "## Analysis of a single State Point\n",
    "\n",
    "As a first step, we will identify the state (fluid or solid), for a particular combination of parameters after the system has equilibrated.\n",
    "We will perform various analyses using [Freud](glotzerlab.engin.umich.edu/freud) to show how we can identify the phase.\n",
    "Once we have identified that this occurs for a some pressure for a given shape, we will look at multiple data points in concert to identify the critical point.\n",
    "\n",
    "Each simulation is executed for a particular pressure ($betaP$), number of vertices ($n$), and a unique random seed.\n",
    "This parameter space is managed with [signac](http://www.signac.io) and the *implicit* schema contains exactly these three variables:"
   ]
  },
  {
   "cell_type": "code",
   "execution_count": null,
   "metadata": {},
   "outputs": [],
   "source": [
    "print(project.detect_schema())"
   ]
  },
  {
   "cell_type": "markdown",
   "metadata": {},
   "source": [
    "We carry out our simulations and analyses for each unique set of parameters, and all the resulting data is stored in an associated directory.\n",
    "In the context of **signac**, each unique set of parameters is called a *state point*, and the association of state point metadata and directory is called a *job*.\n",
    "Each job represents a unique point in our parameter space and contains all the data we have collected for it.\n",
    "\n",
    "To interact with our data in **signac**, we typically want to look at sets of jobs.\n",
    "The standard interface for accessing job data is through the `find_jobs()` function, which lets us filter our data space for jobs matching a specific set of state point keys."
   ]
  },
  {
   "cell_type": "code",
   "execution_count": null,
   "metadata": {},
   "outputs": [],
   "source": [
    "print(\"The total number of data points we have is {}.\".format(len(project.find_jobs())))\n",
    "print(\"Of these, {} have parameter betaP=10.\".format(len(project.find_jobs(dict(n=5, betaP=10.0)))))"
   ]
  },
  {
   "cell_type": "markdown",
   "metadata": {},
   "source": [
    "Since the Python job object is simply a Python wrapper around a file path, we always have direct access to that file path; accessing this path, and any files on that path, is the simplest usage of a **signac** job."
   ]
  },
  {
   "cell_type": "code",
   "execution_count": null,
   "metadata": {
    "scrolled": true
   },
   "outputs": [],
   "source": [
    "job = list(project.find_jobs(dict(n=5, betaP=10.0)))[0]\n",
    "\n",
    "print(\"The data for one of the jobs with n=5 and betaP=10 is stored at this path: {}.\\n\".format(job.workspace()))\n",
    "print(\"The state point is always readily accessible: {}.\\n\".format(job.sp))\n",
    "print(\"We can create or access file paths within this workspace: {}.\\n\".format(job.fn('data.txt')))"
   ]
  },
  {
   "cell_type": "markdown",
   "metadata": {},
   "source": [
    "In this notebook we will always inspect **exactly one** of these state points and we can select it interactively using ipywidgets.\n",
    "\n",
    "**You only need to execute the cell below once. Once you execute it, simply choosing the appropriate parameters in the dropdown will pick new jobs for you interactively without running the code manually again.**"
   ]
  },
  {
   "cell_type": "code",
   "execution_count": null,
   "metadata": {},
   "outputs": [],
   "source": [
    "import sys\n",
    "from ipywidgets import interact\n",
    "\n",
    "JOB = None\n",
    "\n",
    "schema = project.detect_schema()\n",
    "ns = schema['n'][int]\n",
    "betaPs = schema['betaP'][float]\n",
    "seeds = schema['seed'][int]\n",
    "\n",
    "@interact(n=ns, betaP=betaPs, seed=seeds)\n",
    "def select(n=5, betaP=13.2, seed=0):\n",
    "    global JOB\n",
    "    jobs = project.find_jobs(dict(n=n, betaP=betaP, seed=seed))\n",
    "    if len(jobs) == 0:\n",
    "        print(\"No jobs found for this selection.\", file=sys.stderr)\n",
    "    elif len(jobs) > 1:\n",
    "        print(\"Multiple jobs matched this selection.\", file=sys.stderr)\n",
    "    else:\n",
    "        JOB = list(jobs)[0]\n",
    "        print(\"Selected job with id:\", JOB)"
   ]
  },
  {
   "cell_type": "markdown",
   "metadata": {},
   "source": [
    "Use the widget above to select a specific state point to examine.\n",
    "Then, run (or re-run) the cells below to examine the results from that particular simulation and analysis.\n",
    "\n",
    "### Equilibration\n",
    "\n",
    "As a first step, we plot the average hexatic order parameter and system density over time. \n",
    "Over the course of the simulation, these quantities will stabilize as the system equilibrates.\n",
    "\n",
    "The [k-atic order parameter](https://freud.readthedocs.io/en/stable/order.html#freud.order.HexOrderParameter) measures *k-fold* order in a system of particles by calculating the angles between a particle and its neighbors.\n",
    "Here, we calculate $\\psi$, the magnitude of the average 6-atic, or **hexatic**, order parameter, which measures the 6-fold order."
   ]
  },
  {
   "cell_type": "code",
   "execution_count": null,
   "metadata": {},
   "outputs": [],
   "source": [
    "import numpy as np\n",
    "from matplotlib import pyplot as plt\n",
    "import gsd.hoomd\n",
    "%matplotlib inline\n",
    "\n",
    "with gsd.hoomd.open(JOB.fn('trajectory.gsd')) as traj:\n",
    "    N = traj[-1].particles.N\n",
    "\n",
    "log = np.genfromtxt(fname=JOB.fn('log.dat'), names=True)\n",
    "psi = np.load(JOB.fn('order.npz'))\n",
    "\n",
    "fig, ax = plt.subplots(dpi=DPI)\n",
    "ax2 = ax.twinx()\n",
    "\n",
    "ax.plot(log['timestep'], N * JOB.doc.poly_area / log['volume'])\n",
    "ax.set_xlabel('time step')\n",
    "ax.set_ylabel('Packing Fraction')\n",
    "\n",
    "ax2.plot(psi['steps'], np.absolute(psi['psi'].mean(axis=1)), color='red')\n",
    "ax2.set_ylabel('Hexatic Order Parameter ($\\psi$)', color='red')\n",
    "\n",
    "plt.show()"
   ]
  },
  {
   "cell_type": "markdown",
   "metadata": {},
   "source": [
    "Fluids and solids will show different behavior:\n",
    "* **Fluid:** Low pressure fluids will exhibit very little hexatic order, the equilibrium $\\psi$ will be very small.\n",
    "* **Solid:** In ordered solids, $\\psi$ will be large, approximately 0.5 and greater.\n",
    "\n",
    "### Hexatic Order Parameter\n",
    "\n",
    "We can also visualize the system directly, with each particle colored by the value of the local hexatic order parameter.\n",
    "Note that instead of using the stored values, we are now using [`freud`](https://freud.readthedocs.io/en/stable/order.html#freud.order.HexOrderParameter) to calculate the order parameter on the fly each time we visualize a new frame."
   ]
  },
  {
   "cell_type": "code",
   "execution_count": null,
   "metadata": {
    "code_folding": []
   },
   "outputs": [],
   "source": [
    "import freud\n",
    "from draw_utils import quat2ang, draw_config, draw_pmft, draw_voronoi\n",
    "\n",
    "with gsd.hoomd.open(JOB.fn('trajectory.gsd')) as traj:\n",
    "    num_frames = len(traj)-1 "
   ]
  },
  {
   "cell_type": "code",
   "execution_count": null,
   "metadata": {},
   "outputs": [],
   "source": [
    "@interact(frame=(1, num_frames))\n",
    "def frame_demo(frame=num_frames):\n",
    "    fix, ax = plt.subplots(figsize=(6, 6), dpi=DPI)\n",
    "    with gsd.hoomd.open(JOB.fn('trajectory.gsd')) as traj:\n",
    "        frame = traj[frame]\n",
    "        \n",
    "        hop = freud.order.Hexatic(k=6)\n",
    "        hop.compute(frame)\n",
    "        \n",
    "        box = freud.Box.from_box(frame.configuration.box[:2].tolist())\n",
    "        draw_config(fig, ax, box, frame.particles.position, quat2ang(frame.particles.orientation), hop.particle_order, JOB.sp.n)"
   ]
  },
  {
   "cell_type": "markdown",
   "metadata": {},
   "source": [
    "Fluids and solids will show different behavior:\n",
    "* **Fluid:** Fluids have very little correlation in hexatic order. Particles will show the full range of the color wheel:\n",
    "* **Solid:** In ordered solids, all the local environments are ordered. Particles will most all be the same color (except in a few local regions near defects).\n",
    "\n",
    "### Voronoi Diagram\n",
    "\n",
    "Another way to count defects is to look at the [Voronoi diagram](https://en.wikipedia.org/wiki/Voronoi_diagram) of the system.\n",
    "Using the particle positions as reference points, the Voronoi diagram partitions space and finds every point is associated with the closest reference point.\n",
    "In a **perfectly ordered system**, we would expect the Voronoi diagram to divide space into perfect hexagons.\n",
    "Anywhere there are defects in the system, however, we would expect the Voronoi diagram to show pentagons and heptagons (and occasionally larger polygons).\n",
    "To demonstrate this, we plot the Voronoi diagrams below, with each Voronoi polygon colored by the number of sides."
   ]
  },
  {
   "cell_type": "code",
   "execution_count": null,
   "metadata": {},
   "outputs": [],
   "source": [
    "@interact(frame=(1, num_frames))\n",
    "def voronoi_demo(frame=num_frames):\n",
    "    with gsd.hoomd.open(JOB.fn('trajectory.gsd')) as traj:\n",
    "        frame = traj[frame]\n",
    "            \n",
    "        voronoi = freud.locality.Voronoi()\n",
    "        voronoi.compute(frame)\n",
    "\n",
    "    fig, ax = plt.subplots(1, 1, figsize=(10, 8), dpi=DPI)\n",
    "    box = freud.box.Box.from_box(frame.configuration.box[:2].tolist())\n",
    "    draw_voronoi(fig, ax, box, voronoi.polytopes)"
   ]
  },
  {
   "cell_type": "markdown",
   "metadata": {},
   "source": [
    "As we see, early on in the simulation that there are many 5- and 7-gons, as the system is still equilibrating.\n",
    "When equilibrated, you should see:\n",
    "\n",
    "* **Fluid**: Mostly hexagons, but a high concentration of 5- and 7-gons connected to each other.\n",
    "* **Solid**: Mostly hexagons, with a few 5- and 7-gons connected to each other.\n",
    "\n",
    "Solids in 2D only have \"quasi\" long range order due to an appreciable concentration of defects at equilibrium. Compare the Voronoi diagram to the same frame above with the hexatic order parameter coloring and the defects should be visible in the same locations."
   ]
  },
  {
   "cell_type": "markdown",
   "metadata": {},
   "source": [
    "### Radial Distribution Function (RDF)\n",
    "\n",
    "Another way we can analyze our ordering is using the [radial distribution function (RDF)](https://en.wikipedia.org/wiki/Radial_distribution_function), which measures the system density as a function of distance from a particle.\n",
    "The RDF is measured by calculating the average number of particles at a given distance from each particle and then averaging that measure over all particles.\n",
    "In a perfect crystal, the RDF should be just a set of [delta functions](https://en.wikipedia.org/wiki/Delta_function) since all particles are located at precise fixed distances from one another.\n",
    "In systems of particles like the ones we are simulating, we instead expect to see smoother sets of peaks.\n",
    "\n",
    "Below, we calculate the RDF by binning all particles using `freud` (see [the documentation](https://freud.readthedocs.io/en/stable/density.html#freud.density.RDF) for more information)."
   ]
  },
  {
   "cell_type": "code",
   "execution_count": null,
   "metadata": {},
   "outputs": [],
   "source": [
    "@interact(frame=(1, num_frames))\n",
    "def rdf_demo(frame=num_frames):\n",
    "    with gsd.hoomd.open(JOB.fn('trajectory.gsd')) as traj:\n",
    "        frame = traj[frame]\n",
    "            \n",
    "        r_max = np.linalg.norm(frame.configuration.box[:2])/5\n",
    "        rdf = freud.density.RDF(1000, r_max)\n",
    "        rdf.compute(frame)\n",
    "\n",
    "    fig, ax = plt.subplots(dpi=DPI)\n",
    "    ax.set_xlabel(r'r [$\\sigma$]')\n",
    "    ax.set_ylabel(r'$g(r)$ [-]')\n",
    "    ax.plot(rdf.bin_centers, rdf.rdf)"
   ]
  },
  {
   "cell_type": "markdown",
   "metadata": {},
   "source": [
    "Both fluids and solids will show a few strong peaks as there are short range correlations. Where they differ:\n",
    "* **Fluid:** g(r) will tend toward 1.0 at moderate and large values of r.\n",
    "* **Solid:** g(r) will show oscillations out to large values of r. Solids take some time to develop, so early frames may show fluid-like behavior while later frames develop longer range correlations.\n",
    "\n",
    "However, as it is a function of distance alone, the RDF is clearly a limited way of characterizing our system, which we know should exhibit some ordering that depends on the angle between particles.\n",
    "\n",
    "### Potential of Mean Force and Torque (PMFT)\n",
    "\n",
    "To get a more informative picture, we can look at the potential of mean force and torque (PMFT).\n",
    "The PMFT is a generalization of the classical [potential of mean force](https://en.wikipedia.org/wiki/Potential_of_mean_force) (PMF), which measures the average potential energy surface about each particle in the system as a function of distance.\n",
    "The PMF can be calculated directly as $w(r) = -\\beta \\log(g(r))$ (where $g(r)$ is the radial distribution function).\n",
    "\n",
    "The PMFT takes this one step further, looking at the potential energy surface as a function of both distance and angle.\n",
    "As a result, the PMFT can capture the differences in a potential energy surface induced by, for instance, the shape of a particle.\n",
    "In practice, the PMFT is calculated by [binning space and counting particles](https://freud.readthedocs.io/en/stable/pmft.html#freud.pmft.PMFTXY2D).\n",
    "We plot the results below."
   ]
  },
  {
   "cell_type": "code",
   "execution_count": null,
   "metadata": {},
   "outputs": [],
   "source": [
    "@interact(frame=(1, num_frames))\n",
    "def pmft_demo(frame=num_frames):\n",
    "    with gsd.hoomd.open(JOB.fn('trajectory.gsd')) as traj:\n",
    "        frame = traj[frame]\n",
    "            \n",
    "        pmft = freud.pmft.PMFTXY(4, 4, 300)\n",
    "        pmft.compute(frame, quat2ang(frame.particles.orientation))\n",
    "\n",
    "    fig, ax = plt.subplots(1, 1, figsize=(10, 8), dpi=DPI)\n",
    "    draw_pmft(fig, ax, pmft, JOB.sp.n)"
   ]
  },
  {
   "cell_type": "markdown",
   "metadata": {},
   "source": [
    "Looking at early frames of our simulation, we see that the PMFT looks almost circularly uniform.\n",
    "In fact, in this case the PMFT shows the same information as the RDF.\n",
    "There is a low energy ring immediately surrounding the central particle, and past that we see a mostly uniform potential energy surface at all distances.\n",
    "The PMFT doesn't tell us much about the fluid-solid transition, but does help explain how the effective interactions between polygons changes.\n",
    "\n",
    "* **Low vertex polygons**: In later frames, however, we start to see more features.\n",
    "In particular, the PMFT shows smaller energy wells near the edges of the polygon, indicating polygons like to sit edge to edge. \n",
    "* **High vertex polygons**: In later frames, you should still see circular rings. These polygons are close enough to circles that they don't feel there edges strongly.\n",
    "\n",
    "Note: The system sizes in this tutorial are very small and the PMFTs are only obtained from a single frame. For much cleaner PMFT data, one should use larger system sizes and average over many frames. See the paper [Shape and Symmetry Determine Two-Dimensional Melting Transitions of Hard Regular Polygons](http://dx.doi.org/10.1103/PhysRevX.7.021001) for well-sampled PMFTs of polygons.\n",
    "\n",
    "This is additional information not present in the orientationally averaged RDF."
   ]
  },
  {
   "cell_type": "markdown",
   "metadata": {},
   "source": [
    "## Identifying the Fluid-Solid Transition\n",
    "\n",
    "Finally, we return to our original problem: finding the pressure at which the system undergoes a phase transition.\n",
    "We plot the average value of the hexatic order parameter (in the final $N$ frames of our simulation) as a function of pressure, and we look for a pressure at which we see a sudden jump in the order parameter.\n",
    "\n",
    "We will store the identified transition pressures in a dict as part of the *project document*.\n",
    "The *project document*, like the *job document* is a key-value storage, but central to the project.\n",
    "It is ideal for data that does not directly belong to a specific job."
   ]
  },
  {
   "cell_type": "code",
   "execution_count": null,
   "metadata": {},
   "outputs": [],
   "source": [
    "betaP_transitions = project.doc.setdefault('betaP_transition', dict())"
   ]
  },
  {
   "cell_type": "markdown",
   "metadata": {},
   "source": [
    "### Averaged Hexatic Order Parameter\n",
    "\n",
    "Next, we define a function that calculates the average hexatic order parameter for a set of jobs."
   ]
  },
  {
   "cell_type": "code",
   "execution_count": null,
   "metadata": {},
   "outputs": [],
   "source": [
    "from scipy.stats import sem\n",
    "\n",
    "def compute_average_hexatic_order_parameter(jobs, num_frames):\n",
    "    hops = []\n",
    "    for job in jobs:\n",
    "        if job.isfile('trajectory.gsd'):\n",
    "            with gsd.hoomd.open(job.fn('trajectory.gsd')) as traj:\n",
    "                for frame in traj[-num_frames:]:\n",
    "                    hop = freud.order.Hexatic(k=6)\n",
    "                    try:\n",
    "                        hop.compute(frame)\n",
    "                        hops.append(np.absolute(np.mean(hop.particle_order)))\n",
    "                    except RuntimeError as error:\n",
    "                        print(\"{}: {}\".format(job, error), file=sys.stderr)\n",
    "        else:\n",
    "            print(\"Missing data:\", job, file=sys.stderr)\n",
    "    return np.array(hops) if hops else np.nan"
   ]
  },
  {
   "cell_type": "markdown",
   "metadata": {},
   "source": [
    "Then we implement an **interactive** plot that allows us to \n",
    "\n",
    " 1. display the average hexatic order parameter at the simulated pressures,\n",
    " 2. initialize new jobs at selected pressures, and\n",
    " 3. save the selected pressure as the transition pressure.\n",
    " \n",
    "\n",
    " * To initialize new jobs, move the slider to the desired pressure and click the `[Init new jobs]` button.\n",
    " * To store a transition pressure, move the slider to the desired pressure and click on the `[Store transition pressure]` button.\n",
    "\n",
    "**The following cell contains a lot of code that is concerned with the logic of setting up the interactive plot.\n",
    "It is not crucial to follow all steps below!**"
   ]
  },
  {
   "cell_type": "code",
   "execution_count": null,
   "metadata": {},
   "outputs": [],
   "source": [
    "from matplotlib import pyplot as plt\n",
    "from ipywidgets import widgets, interactive\n",
    "from IPython.display import display, clear_output, Markdown\n",
    "from init import init_jobs\n",
    "from multiprocessing import Process\n",
    "\n",
    "# We set up one widget that allows us to select the number of vertices (n)\n",
    "# and one widget that controls the pressure slider.\n",
    "n_widget = widgets.Dropdown(options=list(project.detect_schema()['n'][int]))\n",
    "betaPs = project.detect_schema()['betaP'][float]\n",
    "betaP_widget = widgets.FloatSlider(value=min(betaPs), min=min(betaPs), max=max(betaPs), step=0.1)\n",
    "replica_widget = widgets.IntSlider(min=2, max=9, value=3)\n",
    "\n",
    "\n",
    "# Since we might have simulated different ranges of pressure for each number\n",
    "# of vertices, we update the pressure slider dynamically.\n",
    "def set_betaP_range(arg, num_frames=5):\n",
    "    betaPs = {job.sp.betaP for job in project.find_jobs({'n': arg['new']})}\n",
    "    betaP_widget.min, betaP_widget.max = min(betaPs), max(betaPs)\n",
    "    betaP_widget.value = min(betaPs)\n",
    "n_widget.observe(set_betaP_range, 'value')\n",
    "\n",
    "\n",
    "def plot_hexatic_order_parameter_vs_pressure(n=0, betaP_select=None, replicas=3, num_frames=5):\n",
    "    \"\"\"Plot the hexatic order parameter versus the pressure.\n",
    "    \n",
    "    This is an interactive plot that allows users to initialize new simulation jobs\n",
    "    for the selected pressure or set the selected pressure as the transition pressure.\n",
    "    \"\"\"\n",
    "    \n",
    "    # Compute the average hexatic order parameter (hop) as a function of the pressure.\n",
    "    # This function utilizes job selection with find_jobs() and a grouping operation\n",
    "    # groupby() in combination with a dict-comprehension.\n",
    "    hops = {betaP: compute_average_hexatic_order_parameter(group, num_frames)\n",
    "            for betaP, group in project.find_jobs(dict(n=n)).groupby('betaP')}\n",
    "    \n",
    "    # Plot the order parameter versus pressure.\n",
    "    fig, ax = plt.subplots(dpi=DPI)\n",
    "    ax.set_title('$n={}$'.format(n))\n",
    "    \n",
    "    means = [np.mean(x) for x in hops.values()]\n",
    "    stderr = [sem(x) for x in hops.values()]\n",
    "    ax.errorbar(hops.keys(), means, stderr, marker='o', linestyle='None')\n",
    "    ax.set_xlabel(r'Pressure $\\beta P$')\n",
    "    ax.set_ylabel('Average hexatic order parameter')\n",
    "    \n",
    "    # Identified any missing values and display a blue dotted line where no data is available.\n",
    "    x_nans = [x for x in hops if np.isnan(hops[x]).any()]\n",
    "    for x in x_nans:\n",
    "        ax.axvline(x=x, c='#1f77b4', ls='--', alpha=1.0)\n",
    "    if x_nans:\n",
    "        display(Markdown(\"WARNING: Some data is missing. Make sure to execute all jobs for \"\n",
    "                \"example by executing `./project.py run --parallel` on the command line or \"\n",
    "                \"the cell below.\"))\n",
    "        \n",
    "\n",
    "    # Get the transition pressure for the given n.\n",
    "    # Note: Keys in JSON are *always* strings, even if they represent numbers.\n",
    "    betaP_stored = betaP_transitions.get(str(n))\n",
    "\n",
    "    if betaP_stored is None:\n",
    "        # No transition pressure stored yet.\n",
    "        ax.text(0.5, 0.5, 'No transition pressure stored yet.', transform=ax.transAxes, horizontalalignment='center')\n",
    "    else:\n",
    "        # Plot the (stored) transition pressure as a red solid line.\n",
    "        ax.axvline(x=betaP_stored, c='red')\n",
    "        ax.text(betaP_stored - 0.2, 0.2, 'stored', rotation=90, transform=ax.get_xaxis_transform())    \n",
    "    \n",
    "    if betaP_stored is None or betaP_stored != betaP_select:\n",
    "        # Plot the selected pressure as a dashed red line.\n",
    "        ax.axvline(x=betaP_select, color='red', ls='-.', alpha=0.5)\n",
    "        ax.text(betaP_select - 0.2, 0.2, 'selected', rotation=90, transform=ax.get_xaxis_transform())\n",
    "    \n",
    "    plt.show()\n",
    "\n",
    "    \n",
    "# Convert the plotting function into an interactive function.\n",
    "f = interactive(plot_hexatic_order_parameter_vs_pressure,\n",
    "                n=n_widget, betaP_select=betaP_widget, replicas=replica_widget, num_frames=(1, 10))\n",
    "\n",
    "\n",
    "# Setup the buttons for the interface below\n",
    "def save_transition_pressure(button):\n",
    "    \"Store the selected pressure in the project document.\"\n",
    "    n, betaP = n_widget.value, betaP_widget.value\n",
    "    project.doc.setdefault('betaP_transition', dict())[str(n)] = betaP\n",
    "    display(\"Transition pressure for n={} set to {}.\".format(n, betaP))\n",
    "    clear_output(wait=True)\n",
    "    f.update()\n",
    "button_save = widgets.Button(description='Store transition pressure')\n",
    "button_save.on_click(save_transition_pressure)\n",
    "\n",
    "\n",
    "def init_new_jobs(button):\n",
    "    \"Initialize new jobs for the selected pressure.\"\n",
    "    init_jobs(project, n=n_widget.value, betaP=betaP_widget.value, num_replicas=replica_widget.value)\n",
    "    display(\"Initialized new jobs for pressure {}.\".format(betaP_widget.value))\n",
    "    clear_output(wait=True)\n",
    "    f.update()\n",
    "button_init = widgets.Button(description='Init new job(s)')\n",
    "button_init.on_click(init_new_jobs)\n",
    "\n",
    "# Display the interactive plot and the three buttons directly below it.\n",
    "display(widgets.HBox((button_init, button_save)), f)"
   ]
  },
  {
   "cell_type": "markdown",
   "metadata": {},
   "source": [
    "If you execute the below cell initially, you'll see that for all the jobs in the workspace we have already run the simulation and computed $\\psi$.\n",
    "Once you have added a few new jobs, you can run the below cell again to see that the new jobs are not yet complete, as is evidenced by the \"operation\" column indicating that there is something to run and the \"labels\" column not yet indicating that $\\psi$ has been computed."
   ]
  },
  {
   "cell_type": "code",
   "execution_count": null,
   "metadata": {},
   "outputs": [],
   "source": [
    "project.print_status(detailed=True, parameters=('n', 'betaP'))"
   ]
  },
  {
   "cell_type": "markdown",
   "metadata": {},
   "source": [
    "To run jobs, you can simply execute the subsequent cell:"
   ]
  },
  {
   "cell_type": "code",
   "execution_count": null,
   "metadata": {},
   "outputs": [],
   "source": [
    "project.run(np=2, progress=True)"
   ]
  },
  {
   "cell_type": "markdown",
   "metadata": {},
   "source": [
    "## The Phase Diagram\n",
    "\n",
    "After we have identified  transition pressures for the different shapes, we can plot them all together in one diagram.\n",
    "\n",
    "You might want to initialize more simulations with the `./init.py` script for other vertices (*e.g.* `./init.py 6`)."
   ]
  },
  {
   "cell_type": "code",
   "execution_count": null,
   "metadata": {},
   "outputs": [],
   "source": [
    "from IPython.display import HTML\n",
    "\n",
    "ns = list(sorted(project.doc.betaP_transition))\n",
    "betaPs = [betaP_transitions[n] for n in ns]\n",
    "\n",
    "if len(ns):\n",
    "    fig, ax = plt.subplots(dpi=DPI)\n",
    "    ax.plot(ns, betaPs, 'o-')\n",
    "    ax.set_xlabel('# Vertices ($n$)')\n",
    "    ax.set_ylabel(r\"Transition Pressure ($\\beta P$)\")\n",
    "    ax.set_title(\"Transition pressure diagram\")\n",
    "    plt.show()\n",
    "else:\n",
    "    display(HTML('<font color=\"red\">No transition pressures stored yet.</font>'))"
   ]
  }
 ],
 "metadata": {
  "hide_input": false,
  "kernelspec": {
   "display_name": "Python 3",
   "language": "python",
   "name": "python3"
  },
  "language_info": {
   "codemirror_mode": {
    "name": "ipython",
    "version": 3
   },
   "file_extension": ".py",
   "mimetype": "text/x-python",
   "name": "python",
   "nbconvert_exporter": "python",
   "pygments_lexer": "ipython3",
   "version": "3.7.3"
  },
  "toc": {
   "base_numbering": 1,
   "nav_menu": {},
   "number_sections": true,
   "sideBar": true,
   "skip_h1_title": false,
   "title_cell": "Table of Contents",
   "title_sidebar": "Contents",
   "toc_cell": false,
   "toc_position": {},
   "toc_section_display": true,
   "toc_window_display": false
  }
 },
 "nbformat": 4,
 "nbformat_minor": 4
}
