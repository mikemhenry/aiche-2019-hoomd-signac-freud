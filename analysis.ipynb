{
 "cells": [
  {
   "cell_type": "markdown",
   "metadata": {},
   "source": [
    "# Identifying Phase Transitions\n",
    "\n",
    "In this notebook, we will use numerous methods to characterize the phase behavior of systems of hard polygons.\n",
    "At low pressures, systems will be in a fluid phase.\n",
    "At high enough pressures, the system will form a solid.\n",
    "There is also an intermediate hexatic phase, but that takes more care and much larger simulations to identify - see [ Shape and Symmetry Determine Two-Dimensional Melting Transitions of Hard Regular Polygons](http://dx.doi.org/10.1103/PhysRevX.7.021001).\n",
    "\n",
    "## Select a state point\n",
    "\n",
    "As a first step, we will identify the state (fluid or solid), for a particular combination of parameters after the system has equilibrated.\n",
    "We will perform various analyses using [Freud](glotzerlab.engin.umich.edu/freud) to show how we can identify the phase.\n",
    "Once we have identified that this occurs for a some pressure for a given shape, we will look at multiple data points in concert to identify the critical point."
   ]
  },
  {
   "cell_type": "code",
   "execution_count": null,
   "metadata": {},
   "outputs": [],
   "source": [
    "import signac\n",
    "\n",
    "project = signac.get_project()"
   ]
  },
  {
   "cell_type": "code",
   "execution_count": null,
   "metadata": {},
   "outputs": [],
   "source": [
    "import sys\n",
    "from ipywidgets import interact\n",
    "\n",
    "JOB = None\n",
    "\n",
    "schema = project.detect_schema()\n",
    "ns = schema['n'][int]\n",
    "betaPs = schema['betaP'][float]\n",
    "seeds = schema['seed'][int]\n",
    "\n",
    "@interact(n=ns, betaP=betaPs, seed=seeds)\n",
    "def select(n=5, betaP=13.2, seed=0):\n",
    "    global JOB\n",
    "    jobs = project.find_jobs(dict(n=n, betaP=betaP, seed=seed))\n",
    "    if len(jobs) == 0:\n",
    "        print(\"No jobs found for this selection.\", file=sys.stderr)\n",
    "    elif len(jobs) > 1:\n",
    "        print(\"Multiple jobs matched this selection.\", file=sys.stderr)\n",
    "    else:\n",
    "        JOB = list(jobs)[0]\n",
    "        print(\"Selected\", JOB)"
   ]
  },
  {
   "cell_type": "markdown",
   "metadata": {},
   "source": [
    "Use the widget above to select a specific state point to examine.\n",
    "Then, run (or re-run) the below cells to examine the results from that simulation.\n",
    "\n",
    "## Equilibration\n",
    "\n",
    "As a first step, we plot the average hexatic order parameter and system density over time. \n",
    "Over the course of the simulation, these quantities will stabilize as the system equilibrates.\n",
    "\n",
    "The [k-atic order parameter](https://freud.readthedocs.io/en/stable/order.html#freud.order.HexOrderParameter) measures *k-fold* order in a system of particles by calculating the angles between a particle and its neighbors.\n",
    "Here, we calculate $\\psi$, the magnitude of the average 6-atic, or **hexatic**, order parameter, which measures the 6-fold order."
   ]
  },
  {
   "cell_type": "code",
   "execution_count": null,
   "metadata": {},
   "outputs": [],
   "source": [
    "import numpy as np\n",
    "from matplotlib import pyplot as plt\n",
    "import gsd.hoomd\n",
    "%matplotlib inline\n",
    "\n",
    "with gsd.hoomd.open(JOB.fn('trajectory.gsd')) as traj:\n",
    "    N = traj[-1].particles.N\n",
    "# alternately, use a custom log operation to log phi directly\n",
    "\n",
    "log = np.genfromtxt(fname=JOB.fn('log.dat'), names=True)\n",
    "psi = np.load(JOB.fn('order.npz'))\n",
    "\n",
    "fig, ax = plt.subplots(figsize=(4, 2.2), dpi=140)\n",
    "ax2 = ax.twinx()\n",
    "\n",
    "ax.plot(log['timestep'], N * JOB.doc.poly_area / log['volume'])\n",
    "ax.set_xlabel('time step')\n",
    "ax.set_ylabel('Packing Fraction')\n",
    "\n",
    "ax2.plot(psi['steps'], np.absolute(psi['psi'].mean(axis=1)), color='red')\n",
    "ax2.set_ylabel('Hexatic Order Parameter ($\\psi$)', color='red')\n",
    "\n",
    "plt.show()"
   ]
  },
  {
   "cell_type": "markdown",
   "metadata": {},
   "source": [
    "Fluids and solids will show different behavior:\n",
    "* **Fluid:** Low pressure fluids will exhibit very little hexatic order, the equilibrium $\\psi$ will be very small.\n",
    "* **Solid:** In ordered solids, $\\psi$ will be large, approximately 0.5 and greater.\n",
    "\n",
    "# Hexatic order parameter\n",
    "\n",
    "We can also visualize the system directly, with each particle colored by the value of the local hexatic order parameter.\n",
    "Note that instead of using the stored values, we are now using [`freud`](https://freud.readthedocs.io/en/stable/order.html#freud.order.HexOrderParameter) to calculate the order parameter on the fly each time we visualize a new frame."
   ]
  },
  {
   "cell_type": "code",
   "execution_count": null,
   "metadata": {
    "code_folding": []
   },
   "outputs": [],
   "source": [
    "import freud\n",
    "from draw_utils import quat2ang, draw_config, draw_pmft, draw_voronoi\n",
    "\n",
    "with gsd.hoomd.open(JOB.fn('trajectory.gsd')) as traj:\n",
    "    num_frames = len(traj)-1 "
   ]
  },
  {
   "cell_type": "code",
   "execution_count": null,
   "metadata": {},
   "outputs": [],
   "source": [
    "@interact(frame=(1, num_frames))\n",
    "def frame_demo(frame=num_frames):\n",
    "    fix, ax = plt.subplots(1, 1, figsize=(8, 8))\n",
    "    with gsd.hoomd.open(JOB.fn('trajectory.gsd')) as traj:\n",
    "        frame = traj[frame]\n",
    "        \n",
    "        box = freud.box.Box.from_box(frame.configuration.box[:2].tolist())\n",
    "        hop = freud.order.HexOrderParameter(rmax=1.2, k=6)\n",
    "        hop.compute(box, frame.particles.position)\n",
    "        \n",
    "        draw_config(fig, ax, box, frame.particles.position, quat2ang(frame.particles.orientation), hop.psi, JOB.sp.n)"
   ]
  },
  {
   "cell_type": "markdown",
   "metadata": {},
   "source": [
    "Fluids and solids will show different behavior:\n",
    "* **Fluid:** Fluids have very little correlation in hexatic order. Particles will show the full range of the color wheel:\n",
    "* **Solid:** In ordered solids, all the local environments are ordered. Particles will most all be the same color (except in a few local regions near defects).\n",
    "\n",
    "## RDF\n",
    "\n",
    "Another way we can see this more clearly is using the [radial distribution function (RDF)](https://en.wikipedia.org/wiki/Radial_distribution_function), which measures the system density as a function of distance from a particle.\n",
    "The RDF is measured by calculating the average number of particles at a given distance from each particle and then averaging that measure over all particles.\n",
    "In a perfect crystal, the RDF should be just a set of [delta functions](https://en.wikipedia.org/wiki/Delta_function) since all particles are located at precise fixed distances from one another.\n",
    "In systems of particles like the ones we are simulating, we instead expect to see smoother sets of peaks.\n",
    "\n",
    "Below, we calculate the RDF by binning all particles using `freud` (see [the documentation](https://freud.readthedocs.io/en/stable/density.html#freud.density.RDF) for more information)."
   ]
  },
  {
   "cell_type": "code",
   "execution_count": null,
   "metadata": {},
   "outputs": [],
   "source": [
    "@interact(frame=(1, num_frames))\n",
    "def rdf_demo(frame=num_frames):\n",
    "    with gsd.hoomd.open(JOB.fn('trajectory.gsd')) as traj:\n",
    "        frame = traj[frame]\n",
    "            \n",
    "        box = freud.box.Box.from_box(frame.configuration.box[:2].tolist())\n",
    "        rdf = freud.density.RDF(np.sqrt(box.Lx**2 + box.Ly**2)/5, box.Lx/1000)\n",
    "        rdf.compute(box, frame.particles.position)\n",
    "\n",
    "    fig, ax = plt.subplots(1, 1, figsize=(8, 8))\n",
    "    ax.plot(rdf.R, rdf.RDF)"
   ]
  },
  {
   "cell_type": "markdown",
   "metadata": {},
   "source": [
    "Both fluids and solids will show a few strong peaks as there are short range correlations. Where they differ:\n",
    "* **Fluid:** g(r) will tend toward 1.0 at moderate and large values of r.\n",
    "* **Solid:** g(r) will show oscillations out to large values of r. Solids take some time to develop, so early frames may show fluid-like behavior while later frames develop longer range correlations.\n",
    "\n",
    "However, as it is a function of distance alone, the RDF is clearly a limited way of characterizing our system, which we know should exhibit some ordering that depends on the angle between particles.\n",
    "\n",
    "## PMFT\n",
    "\n",
    "To get a more informative picture, we can look at the potential of mean force and torque (PMFT).\n",
    "The PMFT is a generalization of the classical [potential of mean force](https://en.wikipedia.org/wiki/Potential_of_mean_force) (PMF), which measures the average potential energy surface about each particle in the system as a function of distance.\n",
    "The PMF can be calculated directly as $w(r) = -\\beta \\log(g(r))$ (where $g(r)$ is the radial distribution function).\n",
    "\n",
    "The PMFT takes this one step further, looking at the potential energy surface as a function of both distance and angle.\n",
    "As a result, the PMFT can capture the differences in a potential energy surface induced by, for instance, the shape of a particle.\n",
    "In practice, the PMFT is calculated by [binning space and counting particles](https://freud.readthedocs.io/en/stable/pmft.html#freud.pmft.PMFTXY2D).\n",
    "We plot the results below."
   ]
  },
  {
   "cell_type": "code",
   "execution_count": null,
   "metadata": {},
   "outputs": [],
   "source": [
    "@interact(frame=(1, num_frames))\n",
    "def pmft_demo(frame=num_frames):\n",
    "    with gsd.hoomd.open(JOB.fn('trajectory.gsd')) as traj:\n",
    "        frame = traj[frame]\n",
    "            \n",
    "        box = freud.box.Box.from_box(frame.configuration.box[:2].tolist())\n",
    "        pmft = freud.pmft.PMFTXY2D(4, 4, 300, 300)\n",
    "        pmft.compute(box, frame.particles.position, quat2ang(frame.particles.orientation))\n",
    "\n",
    "    fig, ax = plt.subplots(1, 1, figsize=(10, 8))\n",
    "    draw_pmft(fig, ax, pmft, JOB.sp.n)"
   ]
  },
  {
   "cell_type": "markdown",
   "metadata": {},
   "source": [
    "Looking at early frames of our simulation, we see that the PMFT looks almost circularly uniform.\n",
    "In fact, in this case the PMFT shows the same information as the RDF.\n",
    "There is a low energy ring immediately surrounding the central particle, and past that we see a mostly uniform potential energy surface at all distances.\n",
    "The PMFT doesn't tell us much about the fluid-solid transition, but does help explain how the effective interactions between polygons changes.\n",
    "\n",
    "* **Low vertex polygons**: In later frames, however, we start to see more features.\n",
    "In particular, the PMFT shows smaller energy wells near the edges of the polygon, indicating polygons like to sit edge to edge. \n",
    "* **High vertex polygons**: In later frames, you should still see circular rings. These polygons are close enough to circles that they don't feel there edges strongly.\n",
    "\n",
    "Note: The system sizes in this tutorial are very small and the PMFTs are only obtained from a single frame. For much cleaner PMFT data, one should use larger system sizes and average over many frames. See the paper [Shape and Symmetry Determine Two-Dimensional Melting Transitions of Hard Regular Polygons](http://dx.doi.org/10.1103/PhysRevX.7.021001) for well-sampled PMFTs of polygons.\n",
    "\n",
    "This is additional information not present in the orientationally averaged RDF."
   ]
  },
  {
   "cell_type": "markdown",
   "metadata": {},
   "source": [
    "## Voronoi diagram\n",
    "\n",
    "We saw defects in the system with the hexatic order parameter earlier.\n",
    "Another way to count defects is to look at the [Voronoi diagram](https://en.wikipedia.org/wiki/Voronoi_diagram) of the system.\n",
    "Using the particle positions as reference points, the Voronoi diagram partitions space and finds every point is associated with the closest reference point.\n",
    "In a **perfectly ordered system**, we would expect the Voronoi diagram to divide space into perfect hexagons.\n",
    "Anywhere there are defects in the system, however, we would expect the Voronoi diagram to show pentagons and heptagons (and occasionally larger polygons).\n",
    "To demonstrate this, we plot the Voronoi diagrams below, with each Voronoi polygon colored by the number of sides."
   ]
  },
  {
   "cell_type": "code",
   "execution_count": null,
   "metadata": {
    "scrolled": false
   },
   "outputs": [],
   "source": [
    "@interact(frame=(1, num_frames))\n",
    "def voronoi_demo(frame=num_frames):\n",
    "    with gsd.hoomd.open(JOB.fn('trajectory.gsd')) as traj:\n",
    "        frame = traj[frame]\n",
    "            \n",
    "        box = freud.box.Box.from_box(frame.configuration.box[:2].tolist())\n",
    "        voronoi = freud.voronoi.Voronoi(box, np.sqrt(box.Lx**2 + box.Ly**2)/5)\n",
    "        voronoi.compute(frame.particles.position, box)\n",
    "\n",
    "    fig, ax = plt.subplots(1, 1, figsize=(10, 8))\n",
    "    draw_voronoi(fig, ax, box, voronoi.polytopes)"
   ]
  },
  {
   "cell_type": "markdown",
   "metadata": {},
   "source": [
    "As we see, early on in the simulation that there are many 5- and 7-gons, as the system is still equilibrating.\n",
    "When equilibrated, you should see:\n",
    "\n",
    "* **Fluid**: Mostly hexagons, but a high concentration of 5- and 7-gons connected to each other.\n",
    "* **Solid**: Mostly hexagons, with a few 5- and 7-gons connected to each other.\n",
    "\n",
    "Solids in 2D only have \"quasi\" long range order due to an appreciable concentration of defects at equilibrium. Compare the Voronoi diagram to the same frame above with the hexatic order parameter coloring and the defects should be visible in the same locations."
   ]
  },
  {
   "cell_type": "markdown",
   "metadata": {},
   "source": [
    "## Identify fluid-solid transition\n",
    "\n",
    "Finally, we return to our original problem: finding the pressure at which the system undergoes a phase transition.\n",
    "We plot the average value of the hexatic order parameter (in the final $N$ frames of our simulation) as a function of pressure, and we look for a pressure at which we see a sudden jump in the order parameter."
   ]
  },
  {
   "cell_type": "code",
   "execution_count": null,
   "metadata": {},
   "outputs": [],
   "source": [
    "@interact(n=project.detect_schema()['n'][int], num_frames=(1, 10))\n",
    "def transition_demo(n, num_frames=5):\n",
    "    avg_hop = {}\n",
    "    for betaP, group in project.find_jobs({\"n\": n}).groupby('betaP'):\n",
    "        hops = []\n",
    "        for job in group:\n",
    "            with gsd.hoomd.open(job.fn('trajectory.gsd')) as traj:\n",
    "                for frame in traj[-num_frames:]:\n",
    "                    box = freud.box.Box.from_box(frame.configuration.box[:2].tolist())\n",
    "                    hop = freud.order.HexOrderParameter(rmax=1.2, k=6)\n",
    "                    hop.compute(box, frame.particles.position)\n",
    "                    hops.append(np.absolute(np.mean(hop.psi)))\n",
    "        avg_hop[betaP] = np.mean(hops)\n",
    "    fig, ax = plt.subplots(1, 1)\n",
    "    ax.plot(avg_hop.keys(), avg_hop.values(), 's')"
   ]
  },
  {
   "cell_type": "code",
   "execution_count": null,
   "metadata": {},
   "outputs": [],
   "source": []
  }
 ],
 "metadata": {
  "hide_input": false,
  "kernelspec": {
   "display_name": "Python 3",
   "language": "python",
   "name": "python3"
  },
  "language_info": {
   "codemirror_mode": {
    "name": "ipython",
    "version": 3
   },
   "file_extension": ".py",
   "mimetype": "text/x-python",
   "name": "python",
   "nbconvert_exporter": "python",
   "pygments_lexer": "ipython3",
   "version": "3.7.0"
  },
  "toc": {
   "base_numbering": 1,
   "nav_menu": {},
   "number_sections": true,
   "sideBar": true,
   "skip_h1_title": false,
   "title_cell": "Table of Contents",
   "title_sidebar": "Contents",
   "toc_cell": false,
   "toc_position": {},
   "toc_section_display": true,
   "toc_window_display": false
  }
 },
 "nbformat": 4,
 "nbformat_minor": 2
}
