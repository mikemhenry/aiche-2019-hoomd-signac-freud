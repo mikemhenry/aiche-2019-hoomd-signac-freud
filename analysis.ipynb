{
 "cells": [
  {
   "cell_type": "markdown",
   "metadata": {},
   "source": [
    "# Identifying Phase Transitions\n",
    "\n",
    "In this notebook, we will use numerous methods to characterize the phase behavior of our polygons.\n",
    "As a first step, we will want to identify whether, for a particular combination of parameters, our system undergoes some sort of phase transition once the simulation runs for long enough.\n",
    "We will perform various analyses to show how we can identify this phase transition behavior.\n",
    "Once we have identified that this occurs for a some pressure for a given shape, we will look at multiple data points in concert to identify the critical point, the pressure value above which all systems of a given type of polygon would be expected to undergo this phase transition."
   ]
  },
  {
   "cell_type": "code",
   "execution_count": null,
   "metadata": {},
   "outputs": [],
   "source": [
    "import signac\n",
    "\n",
    "project = signac.get_project()"
   ]
  },
  {
   "cell_type": "code",
   "execution_count": null,
   "metadata": {},
   "outputs": [],
   "source": [
    "import sys\n",
    "from ipywidgets import interact\n",
    "\n",
    "JOB = None\n",
    "\n",
    "schema = project.detect_schema()\n",
    "ns = schema['n'][int]\n",
    "betaPs = schema['betaP'][float]\n",
    "seeds = schema['seed'][int]\n",
    "\n",
    "@interact(n=ns, betaP=betaPs, seed=seeds)\n",
    "def select(n=5, betaP=13.2, seed=0):\n",
    "    global JOB\n",
    "    jobs = project.find_jobs(dict(n=n, betaP=betaP, seed=seed))\n",
    "    if len(jobs) == 0:\n",
    "        print(\"No jobs found for this selection.\", file=sys.stderr)\n",
    "    elif len(jobs) > 1:\n",
    "        print(\"Multiple jobs matched this selection.\", file=sys.stderr)\n",
    "    else:\n",
    "        JOB = list(jobs)[0]\n",
    "        print(\"Selected\", JOB)"
   ]
  },
  {
   "cell_type": "markdown",
   "metadata": {},
   "source": [
    "As a first step, we plot the hexatic order parameter over time.\n",
    "Generally speaking, 2D systems of particles are expected to exhibit a [hexatic phase](https://en.wikipedia.org/wiki/Hexatic_phase), in which the system has 6-fold translational ordering.\n",
    "The [k-atic order parameter](https://freud.readthedocs.io/en/stable/order.html#freud.order.HexOrderParameter) measures *k-fold* order in a system of particles by calculating the angles between a particle and its neighbors.\n",
    "In this case, over the course of the simulation we have calculated and stored the 6-atic, or **hexatic**, order parameter, which measures the 6-fold order.\n",
    "In the plots below, we see how the value of the order parameter increases over the course of the simulation as the system becomes ordered."
   ]
  },
  {
   "cell_type": "code",
   "execution_count": null,
   "metadata": {},
   "outputs": [],
   "source": [
    "import numpy as np\n",
    "from matplotlib import pyplot as plt\n",
    "import gsd.hoomd\n",
    "%matplotlib inline\n",
    "\n",
    "with gsd.hoomd.open(JOB.fn('trajectory.gsd')) as traj:\n",
    "    N = traj[-1].particles.N\n",
    "# alternately, use a custom log operation to log phi directly\n",
    "\n",
    "log = np.genfromtxt(fname=JOB.fn('log.dat'), names=True)\n",
    "psi = np.load(JOB.fn('order.npz'))\n",
    "\n",
    "fig, ax = plt.subplots(figsize=(4, 2.2), dpi=140)\n",
    "ax2 = ax.twinx()\n",
    "\n",
    "ax.plot(log['timestep'], N * JOB.doc.poly_area / log['volume'])\n",
    "ax.set_xlabel('time step')\n",
    "ax.set_ylabel('Packing Fraction')\n",
    "\n",
    "ax2.plot(psi['steps'], np.absolute(psi['psi'].mean(axis=1)), color='red')\n",
    "ax2.set_ylabel('Hexatic Order Parameter ($\\psi$)', color='red')\n",
    "\n",
    "plt.show()"
   ]
  },
  {
   "cell_type": "markdown",
   "metadata": {},
   "source": [
    "From this plot, we see that 6-fold ordering is eventually arising over the course of this simulation.\n",
    "To get a more concrete picture of what this looks like, we can perform a number of different analyses.\n",
    "As a first step, we can visualize the system directly.\n",
    "In the plot below, the shapes are colored by the value of the hexatic order parameter.\n",
    "Note that instead of using the stored values, we are now using [`freud`](https://freud.readthedocs.io/en/stable/order.html#freud.order.HexOrderParameter) to calculate the order parameter on the fly each time we visualize a new frame."
   ]
  },
  {
   "cell_type": "code",
   "execution_count": null,
   "metadata": {
    "code_folding": []
   },
   "outputs": [],
   "source": [
    "import freud\n",
    "from draw_utils import quat2ang, draw_config, draw_pmft, draw_voronoi\n",
    "\n",
    "with gsd.hoomd.open(JOB.fn('trajectory.gsd')) as traj:\n",
    "    num_frames = len(traj)-1 "
   ]
  },
  {
   "cell_type": "code",
   "execution_count": null,
   "metadata": {},
   "outputs": [],
   "source": [
    "@interact(frame=(0, num_frames))\n",
    "def frame_demo(frame=num_frames):\n",
    "    fix, ax = plt.subplots(1, 1, figsize=(8, 8))\n",
    "    with gsd.hoomd.open(JOB.fn('trajectory.gsd')) as traj:\n",
    "        frame = traj[frame]\n",
    "        \n",
    "        box = freud.box.Box.from_box(frame.configuration.box[:2].tolist())\n",
    "        hop = freud.order.HexOrderParameter(rmax=1.2, k=6)\n",
    "        hop.compute(box, frame.particles.position)\n",
    "        \n",
    "        draw_config(fig, ax, box, frame.particles.position, quat2ang(frame.particles.orientation), hop.psi, JOB.sp.n)"
   ]
  },
  {
   "cell_type": "markdown",
   "metadata": {},
   "source": [
    "Evidently, we see that while early on in the simulation the value of the order parameter is highly variable throughout the system, towards the end the hexatic order parameter is similar for nearly all of the particles (as shown by the relative homogeneity of the color scheme).\n",
    "One way we can try to see this more clearly is using the [radial distribution function (RDF)](https://en.wikipedia.org/wiki/Radial_distribution_function), which measures the system density as a function of distance from a particle.\n",
    "The RDF is measured by calculating the average number of particles at a given distance from each particle and then averaging that measure over all particles.\n",
    "In a perfect crystal, the RDF should be just a set of [delta functions](https://en.wikipedia.org/wiki/Delta_function) since all particles are located at precise fixed distances from one another.\n",
    "In systems of particles like the ones we are simulating, we instead expect to see smoother sets of peaks.\n",
    "\n",
    "Below, we calculate the RDF by binning all particles using `freud` (see [the documentation](https://freud.readthedocs.io/en/stable/density.html#freud.density.RDF) for more information)."
   ]
  },
  {
   "cell_type": "code",
   "execution_count": null,
   "metadata": {},
   "outputs": [],
   "source": [
    "@interact(frame=(0, num_frames))\n",
    "def rdf_demo(frame=num_frames):\n",
    "    with gsd.hoomd.open(JOB.fn('trajectory.gsd')) as traj:\n",
    "        frame = traj[frame]\n",
    "            \n",
    "        box = freud.box.Box.from_box(frame.configuration.box[:2].tolist())\n",
    "        rdf = freud.density.RDF(np.sqrt(box.Lx**2 + box.Ly**2)/5, box.Lx/1000)\n",
    "        rdf.compute(box, frame.particles.position)\n",
    "\n",
    "    fig, ax = plt.subplots(1, 1, figsize=(8, 8))\n",
    "    ax.plot(rdf.R, rdf.RDF)"
   ]
  },
  {
   "cell_type": "markdown",
   "metadata": {},
   "source": [
    "From the plots above, we can see that while the initial frames show a generally uniform density after the nearest neighbor peak, over time the RDF exhibits more regular peaks.\n",
    "However, as a function of distance alone, the RDF is clearly a limited way of characterizing our system, which we know should exhibit some ordering that depends on the angle between particles.\n",
    "\n",
    "To get a more informative picture, we can look at the potential of mean force and torque (PMFT).\n",
    "The PMFT is a generalization of the classical [potential of mean force](https://en.wikipedia.org/wiki/Potential_of_mean_force) (PMF), which measures the average potential energy surface about each particle in the system as a function of distance.\n",
    "The PMF can be calculated directly as $w(r) = -\\beta \\log(g(r))$ (where $g(r)$ is the radial distribution function).\n",
    "\n",
    "The PMFT takes this one step further, looking at the potential energy surface as a function of both distance and angle.\n",
    "As a result, the PMFT can capture the differences in a potential energy surface induced by, for instance, the shape of a particle.\n",
    "In practice, the PMFT is calculated by [binning space and counting particles](https://freud.readthedocs.io/en/stable/pmft.html#freud.pmft.PMFTXY2D).\n",
    "We plot the results below."
   ]
  },
  {
   "cell_type": "code",
   "execution_count": null,
   "metadata": {},
   "outputs": [],
   "source": [
    "@interact(frame=(0, num_frames))\n",
    "def pmft_demo(frame=num_frames):\n",
    "    with gsd.hoomd.open(JOB.fn('trajectory.gsd')) as traj:\n",
    "        frame = traj[frame]\n",
    "            \n",
    "        box = freud.box.Box.from_box(frame.configuration.box[:2].tolist())\n",
    "        pmft = freud.pmft.PMFTXY2D(4, 4, 300, 300)\n",
    "        pmft.compute(box, frame.particles.position, quat2ang(frame.particles.orientation))\n",
    "\n",
    "    fig, ax = plt.subplots(1, 1, figsize=(10, 8))\n",
    "    draw_pmft(fig, ax, pmft, JOB.sp.n)"
   ]
  },
  {
   "cell_type": "markdown",
   "metadata": {},
   "source": [
    "Looking at early frames of our simulation, we see that the PMFT looks almost spherically uniform.\n",
    "In fact, in this case the PMFT shows the same information as the RDF.\n",
    "There is a low energy ring immediately surrounding the central particle, and past that we see a mostly uniform potential energy surface at all distances.\n",
    "In later frames, however, we start to see more features.\n",
    "In particular, the PMFT shows smaller energy wells that represent the later peaks in the RDF that appeared at later frames.\n",
    "With the PMFT, however, we get some additional information: instead of being circular, each subsequent ring has a shape commensurate to our actual particle shape.\n",
    "This shape reflects the fact that not only do particles tend to sit as specific distances from one another, the optimal distance is also a function of the angle between the particles."
   ]
  },
  {
   "cell_type": "markdown",
   "metadata": {},
   "source": [
    "For an even more visually obvious metric of this anistropy, we can look at the [Voronoi diagram](https://en.wikipedia.org/wiki/Voronoi_diagram) of the system.\n",
    "Using a fixed set of reference points, the Voronoi diagram creates a partitioning of space where every point is associated with the closest reference point.\n",
    "In a system of perfectly ordered polygons, we would expect the Voronoi diagram to divide space into a set of identical polygons corresponding exactly to the actual polygons in the system.\n",
    "Anywhere there are defects in the system, however, we would expect the Voronoi diagram to show some disorder.\n",
    "To demonstrate this, we plot the Voronoi diagrams below, with each Voronoi polygon colored by the number of sides."
   ]
  },
  {
   "cell_type": "code",
   "execution_count": null,
   "metadata": {
    "scrolled": false
   },
   "outputs": [],
   "source": [
    "@interact(frame=(0, num_frames))\n",
    "def voronoi_demo(frame=num_frames):\n",
    "    with gsd.hoomd.open(JOB.fn('trajectory.gsd')) as traj:\n",
    "        frame = traj[frame]\n",
    "            \n",
    "        box = freud.box.Box.from_box(frame.configuration.box[:2].tolist())\n",
    "        voronoi = freud.voronoi.Voronoi(box, np.sqrt(box.Lx**2 + box.Ly**2)/5)\n",
    "        voronoi.compute(frame.particles.position, box)\n",
    "\n",
    "    fig, ax = plt.subplots(1, 1, figsize=(10, 8))\n",
    "    draw_voronoi(fig, ax, box, voronoi.polytopes)"
   ]
  },
  {
   "cell_type": "markdown",
   "metadata": {},
   "source": [
    "As we see, early on in the simulation the Voronoi polygons are polydisperse, as there is a relatively inhomogeneous distribution of our real polygons throughout the system.\n",
    "As the system becomes ordered, the Voronoi diagram also reflects this order.\n",
    "In the final frame, almost all of the Voronoi polygons have the same number of sides as our original polygons, and the areas where this is not true are clear signs of defects."
   ]
  },
  {
   "cell_type": "markdown",
   "metadata": {},
   "source": [
    "Finally, we return to our original problem: finding the pressure at which the system undergoes a phase transition.\n",
    "We plot the average value of the hexatic order parameter (in the final $N$ frames of our simulation) as a function of pressure, and we look for a pressure at which we see a sudden jump in the order parameter."
   ]
  },
  {
   "cell_type": "code",
   "execution_count": null,
   "metadata": {},
   "outputs": [],
   "source": [
    "@interact(n=project.detect_schema()['n'][int], num_frames=(1, 10))\n",
    "def transition_demo(n, num_frames=5):\n",
    "    avg_hop = {}\n",
    "    for betaP, group in project.find_jobs({\"n\": n}).groupby('betaP'):\n",
    "        hops = []\n",
    "        for job in group:\n",
    "            with gsd.hoomd.open(job.fn('trajectory.gsd')) as traj:\n",
    "                for frame in traj[-num_frames:]:\n",
    "                    box = freud.box.Box.from_box(frame.configuration.box[:2].tolist())\n",
    "                    hop = freud.order.HexOrderParameter(rmax=1.2, k=6)\n",
    "                    hop.compute(box, frame.particles.position)\n",
    "                    hops.append(np.absolute(np.mean(hop.psi)))\n",
    "        avg_hop[betaP] = np.mean(hops)\n",
    "    fig, ax = plt.subplots(1, 1)\n",
    "    ax.plot(avg_hop.keys(), avg_hop.values())"
   ]
  }
 ],
 "metadata": {
  "hide_input": false,
  "kernelspec": {
   "display_name": "Python 3",
   "language": "python",
   "name": "python3"
  },
  "language_info": {
   "codemirror_mode": {
    "name": "ipython",
    "version": 3
   },
   "file_extension": ".py",
   "mimetype": "text/x-python",
   "name": "python",
   "nbconvert_exporter": "python",
   "pygments_lexer": "ipython3",
   "version": "3.6.6"
  },
  "toc": {
   "base_numbering": 1,
   "nav_menu": {},
   "number_sections": true,
   "sideBar": true,
   "skip_h1_title": false,
   "title_cell": "Table of Contents",
   "title_sidebar": "Contents",
   "toc_cell": false,
   "toc_position": {},
   "toc_section_display": true,
   "toc_window_display": false
  }
 },
 "nbformat": 4,
 "nbformat_minor": 2
}
